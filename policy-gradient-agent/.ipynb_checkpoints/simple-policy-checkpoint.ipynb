{
 "cells": [
  {
   "cell_type": "markdown",
   "metadata": {},
   "source": [
    "# Policy Gradient Agent "
   ]
  },
  {
   "cell_type": "markdown",
   "metadata": {},
   "source": [
    "### Importing libraries"
   ]
  },
  {
   "cell_type": "code",
   "execution_count": 1,
   "metadata": {},
   "outputs": [
    {
     "name": "stdout",
     "output_type": "stream",
     "text": [
      "WARNING:tensorflow:From /Users/bhanuka/Dropbox/Projects/Personal Projects/Reinforcement Learning/env/lib/python3.7/site-packages/tensorflow_core/python/compat/v2_compat.py:65: disable_resource_variables (from tensorflow.python.ops.variable_scope) is deprecated and will be removed in a future version.\n",
      "Instructions for updating:\n",
      "non-resource variables are not supported in the long term\n"
     ]
    }
   ],
   "source": [
    "import numpy as np\n",
    "\n",
    "import tensorflow.compat.v1 as tf\n",
    "tf.disable_v2_behavior()\n",
    "from tensorflow.python.framework import ops"
   ]
  },
  {
   "cell_type": "markdown",
   "metadata": {},
   "source": [
    "### The Bandits"
   ]
  },
  {
   "cell_type": "code",
   "execution_count": 2,
   "metadata": {},
   "outputs": [],
   "source": [
    "bandits = [0.2,0,-0.2,-5]\n",
    "num_bandits = len(bandits)"
   ]
  },
  {
   "cell_type": "code",
   "execution_count": 10,
   "metadata": {},
   "outputs": [],
   "source": [
    "# Method to get the reward\n",
    "def pullBandit(bandit):\n",
    "    # Get a random number\n",
    "    result = np.random.randn(1)\n",
    "    \n",
    "    if result > bandit:\n",
    "        return 1\n",
    "    else:\n",
    "        return -1"
   ]
  },
  {
   "cell_type": "markdown",
   "metadata": {},
   "source": [
    "### The Agent"
   ]
  },
  {
   "cell_type": "code",
   "execution_count": 4,
   "metadata": {},
   "outputs": [],
   "source": [
    "ops.reset_default_graph()"
   ]
  },
  {
   "cell_type": "code",
   "execution_count": 6,
   "metadata": {},
   "outputs": [],
   "source": [
    "# Feed forward network\n",
    "weights = tf.Variable(tf.ones([num_bandits]))\n",
    "chosen_actions = tf.argmax(weights,0)"
   ]
  },
  {
   "cell_type": "code",
   "execution_count": 8,
   "metadata": {},
   "outputs": [],
   "source": [
    "# Back propogation and training\n",
    "reward_holder = tf.placeholder(shape=[1], dtype=tf.float32)\n",
    "action_holder = tf.placeholder(shape=[1], dtype=tf.int32)\n",
    "responsible_weight = tf.slice(weights, action_holder, [1])\n",
    "\n",
    "loss = -(tf.log(responsible_weight) * reward_holder)\n",
    "optimizer = tf.train.GradientDescentOptimizer(learning_rate = 0.001)\n",
    "update = optimizer.minimize(loss)"
   ]
  },
  {
   "cell_type": "markdown",
   "metadata": {},
   "source": [
    "### Training the agent"
   ]
  },
  {
   "cell_type": "code",
   "execution_count": 15,
   "metadata": {},
   "outputs": [
    {
     "name": "stdout",
     "output_type": "stream",
     "text": [
      "Running reward for the 4 bandits [-1.  0.  0.  0.]\n",
      "Running reward for the 4 bandits [-1.  1.  0.  1.]\n",
      "Running reward for the 4 bandits [-1.  1.  0. 27.]\n",
      "Running reward for the 4 bandits [ 1.  2. -1. 73.]\n",
      "Running reward for the 4 bandits [ -1.   0.  -1. 119.]\n",
      "Running reward for the 4 bandits [  0.  -1.  -1. 167.]\n",
      "Running reward for the 4 bandits [  0.  -1.   0. 214.]\n",
      "Running reward for the 4 bandits [  0.   1.   1. 257.]\n",
      "Running reward for the 4 bandits [  0.  -1.   1. 303.]\n",
      "Running reward for the 4 bandits [  0.  -2.   1. 348.]\n",
      "Running reward for the 4 bandits [  1.  -2.   0. 396.]\n",
      "Running reward for the 4 bandits [  2.  -2.  -1. 440.]\n",
      "Running reward for the 4 bandits [  2.   0.  -2. 487.]\n",
      "Running reward for the 4 bandits [  1.   3.  -1. 532.]\n",
      "Running reward for the 4 bandits [  0.   3.  -2. 578.]\n",
      "Running reward for the 4 bandits [  0.   3.   1. 621.]\n",
      "Running reward for the 4 bandits [  0.   1.   2. 668.]\n",
      "Running reward for the 4 bandits [  0.   1.   3. 715.]\n",
      "Running reward for the 4 bandits [  1.   1.   3. 764.]\n",
      "Running reward for the 4 bandits [  0.   2.   2. 811.]\n"
     ]
    }
   ],
   "source": [
    "total_episodes = 1000\n",
    "total_reward = np.zeros(num_bandits)\n",
    "e = 0.1\n",
    "\n",
    "init = tf.initialize_all_variables()\n",
    "\n",
    "with tf.Session() as sess:\n",
    "    sess.run(init)\n",
    "    \n",
    "    i = 0\n",
    "    \n",
    "    while i < total_episodes:\n",
    "        if np.random.rand(1) < e:\n",
    "            action = np.random.randint(num_bandits)\n",
    "        else:\n",
    "            action = sess.run(chosen_actions)\n",
    "                    \n",
    "        # Get the reward from the bandits\n",
    "        reward = pullBandit(bandits[action])\n",
    "        \n",
    "        # Update the network\n",
    "        _, resp, ww = sess.run([update, responsible_weight, weights], feed_dict={reward_holder:[reward], action_holder:[action]})\n",
    "        \n",
    "        # Update our running tally of scores\n",
    "        total_reward[action] += reward\n",
    "        \n",
    "        if i % 50 == 0:\n",
    "            print(\"Running reward for the \" + str(num_bandits) + \" bandits \" + str(total_reward))\n",
    "            \n",
    "        i += 1\n",
    "        \n",
    "        "
   ]
  },
  {
   "cell_type": "code",
   "execution_count": 16,
   "metadata": {},
   "outputs": [
    {
     "name": "stdout",
     "output_type": "stream",
     "text": [
      "The agent thinks bandit 4 is the most promising....\n",
      "...and it was right!\n"
     ]
    }
   ],
   "source": [
    "print(\"The agent thinks bandit \" + str(np.argmax(ww)+1) + \" is the most promising....\")\n",
    "if np.argmax(ww) == np.argmax(-np.array(bandits)):\n",
    "    print(\"...and it was right!\")\n",
    "else:\n",
    "    print(\"...and it was wrong!\")"
   ]
  },
  {
   "cell_type": "code",
   "execution_count": null,
   "metadata": {},
   "outputs": [],
   "source": []
  }
 ],
 "metadata": {
  "kernelspec": {
   "display_name": "Python 3",
   "language": "python",
   "name": "python3"
  },
  "language_info": {
   "codemirror_mode": {
    "name": "ipython",
    "version": 3
   },
   "file_extension": ".py",
   "mimetype": "text/x-python",
   "name": "python",
   "nbconvert_exporter": "python",
   "pygments_lexer": "ipython3",
   "version": "3.7.5"
  }
 },
 "nbformat": 4,
 "nbformat_minor": 4
}
