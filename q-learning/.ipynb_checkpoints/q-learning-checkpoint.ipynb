{
 "cells": [
  {
   "cell_type": "markdown",
   "metadata": {},
   "source": [
    "# Q-Table Learning"
   ]
  },
  {
   "cell_type": "code",
   "execution_count": 1,
   "metadata": {},
   "outputs": [],
   "source": [
    "import gym\n",
    "import numpy as np"
   ]
  },
  {
   "cell_type": "markdown",
   "metadata": {},
   "source": [
    "Load the environment"
   ]
  },
  {
   "cell_type": "code",
   "execution_count": 2,
   "metadata": {},
   "outputs": [],
   "source": [
    "# List all the environments\n",
    "# print(gym.envs.registry.all())"
   ]
  },
  {
   "cell_type": "code",
   "execution_count": 3,
   "metadata": {},
   "outputs": [],
   "source": [
    "env = gym.make('FrozenLake-v0')"
   ]
  },
  {
   "cell_type": "markdown",
   "metadata": {},
   "source": [
    "Implementing Q-Table learning algorithm"
   ]
  },
  {
   "cell_type": "code",
   "execution_count": 4,
   "metadata": {},
   "outputs": [],
   "source": [
    "# Initialize the empty table with zeros\n",
    "Q = np.zeros([env.observation_space.n, env.action_space.n])"
   ]
  },
  {
   "cell_type": "code",
   "execution_count": 5,
   "metadata": {},
   "outputs": [],
   "source": [
    "# Set the learning parameters\n",
    "lr = 0.8\n",
    "y = 0.95\n",
    "num_episodes = 2000\n",
    "reward_list = []"
   ]
  },
  {
   "cell_type": "code",
   "execution_count": 8,
   "metadata": {},
   "outputs": [],
   "source": [
    "# Start looping through and fill the table\n",
    "for i in range(num_episodes):\n",
    "    \n",
    "    # Reset the environment and get the first observation\n",
    "    s = env.reset()\n",
    "    total_reward = 0\n",
    "    done = False\n",
    "    j = 0\n",
    "    \n",
    "    # The Q-Table learning algorithm\n",
    "    while j < 99:\n",
    "        \n",
    "        # Using greedy approach to pick and action\n",
    "        a = np.argmax(Q[s,:] + np.random.randn(1,env.action_space.n) * (1.0/(i+1)))\n",
    "        \n",
    "        # Get the next state and reward\n",
    "        s_new, reward, done, _ = env.step(a)\n",
    "        \n",
    "        # Update the Q-Table\n",
    "        Q[s,a] = Q[s,a] + lr * (reward + y*np.max(Q[s_new,:]) - Q[s,a])\n",
    "    \n",
    "        # Get the cumilative reward\n",
    "        total_reward += reward\n",
    "        \n",
    "        # Update the current scene\n",
    "        s = s_new\n",
    "        \n",
    "        if done == True:\n",
    "            break\n",
    "      \n",
    "    # Add the total rewards to the final reward list to view over time\n",
    "    reward_list.append(total_reward)"
   ]
  },
  {
   "cell_type": "code",
   "execution_count": 10,
   "metadata": {},
   "outputs": [
    {
     "name": "stdout",
     "output_type": "stream",
     "text": [
      "Score over time: 0.6225\n"
     ]
    }
   ],
   "source": [
    "print(\"Score over time: \" + str(sum(reward_list)/num_episodes))"
   ]
  },
  {
   "cell_type": "code",
   "execution_count": 12,
   "metadata": {},
   "outputs": [
    {
     "name": "stdout",
     "output_type": "stream",
     "text": [
      "Final Q Table\n",
      "[[4.00306003e-01 1.55964338e-02 1.22298821e-02 0.00000000e+00]\n",
      " [1.04159853e-04 4.41806236e-04 1.43675049e-03 2.46995663e-01]\n",
      " [6.81299900e-03 2.04788601e-03 4.55860911e-03 7.91253845e-02]\n",
      " [5.68510577e-04 6.24977373e-03 0.00000000e+00 3.10643409e-02]\n",
      " [3.20735189e-01 1.06287151e-03 5.89036108e-04 0.00000000e+00]\n",
      " [0.00000000e+00 0.00000000e+00 0.00000000e+00 0.00000000e+00]\n",
      " [5.23403152e-04 2.07631087e-06 1.35660770e-02 1.71271771e-06]\n",
      " [0.00000000e+00 0.00000000e+00 0.00000000e+00 0.00000000e+00]\n",
      " [5.59323994e-04 0.00000000e+00 1.09038795e-05 1.96517643e-01]\n",
      " [0.00000000e+00 3.30911049e-01 0.00000000e+00 8.50685332e-03]\n",
      " [8.50296407e-02 0.00000000e+00 0.00000000e+00 0.00000000e+00]\n",
      " [0.00000000e+00 0.00000000e+00 0.00000000e+00 0.00000000e+00]\n",
      " [0.00000000e+00 0.00000000e+00 0.00000000e+00 0.00000000e+00]\n",
      " [0.00000000e+00 2.78160333e-04 7.38396858e-01 0.00000000e+00]\n",
      " [0.00000000e+00 9.69142335e-01 0.00000000e+00 0.00000000e+00]\n",
      " [0.00000000e+00 0.00000000e+00 0.00000000e+00 0.00000000e+00]]\n"
     ]
    }
   ],
   "source": [
    "print(\"Final Q Table\")\n",
    "print(Q)"
   ]
  }
 ],
 "metadata": {
  "kernelspec": {
   "display_name": "Python 3",
   "language": "python",
   "name": "python3"
  },
  "language_info": {
   "codemirror_mode": {
    "name": "ipython",
    "version": 3
   },
   "file_extension": ".py",
   "mimetype": "text/x-python",
   "name": "python",
   "nbconvert_exporter": "python",
   "pygments_lexer": "ipython3",
   "version": "3.7.5"
  }
 },
 "nbformat": 4,
 "nbformat_minor": 4
}
