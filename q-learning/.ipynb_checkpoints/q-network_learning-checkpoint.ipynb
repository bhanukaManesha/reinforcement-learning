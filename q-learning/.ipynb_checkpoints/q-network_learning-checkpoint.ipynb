{
 "cells": [
  {
   "cell_type": "markdown",
   "metadata": {},
   "source": [
    "# Q-Network Learning"
   ]
  },
  {
   "cell_type": "code",
   "execution_count": 1,
   "metadata": {},
   "outputs": [
    {
     "name": "stdout",
     "output_type": "stream",
     "text": [
      "WARNING:tensorflow:From /Users/bhanuka/Dropbox/Projects/Personal Projects/Reinforcement Learning/env/lib/python3.7/site-packages/tensorflow_core/python/compat/v2_compat.py:65: disable_resource_variables (from tensorflow.python.ops.variable_scope) is deprecated and will be removed in a future version.\n",
      "Instructions for updating:\n",
      "non-resource variables are not supported in the long term\n"
     ]
    }
   ],
   "source": [
    "import gym\n",
    "import numpy as np\n",
    "import random\n",
    "import matplotlib.pyplot as plt\n",
    "\n",
    "import tensorflow.compat.v1 as tf\n",
    "tf.disable_v2_behavior()\n",
    "from tensorflow.python.framework import ops\n",
    "\n",
    "%matplotlib inline"
   ]
  },
  {
   "cell_type": "markdown",
   "metadata": {},
   "source": [
    "### Load the environment"
   ]
  },
  {
   "cell_type": "code",
   "execution_count": 2,
   "metadata": {},
   "outputs": [],
   "source": [
    "env = gym.make(\"FrozenLake-v0\")"
   ]
  },
  {
   "cell_type": "markdown",
   "metadata": {},
   "source": [
    "### Implementing the neural network"
   ]
  },
  {
   "cell_type": "code",
   "execution_count": 3,
   "metadata": {},
   "outputs": [],
   "source": [
    "ops.reset_default_graph()"
   ]
  },
  {
   "cell_type": "code",
   "execution_count": 4,
   "metadata": {},
   "outputs": [],
   "source": [
    "# Implementing the feed forward part of the network\n",
    "input_placeholder = tf.placeholder(shape=[1,16], dtype=tf.float32)\n",
    "W = tf.Variable(tf.random_uniform([16,4],0,0.01))\n",
    "\n",
    "Q_out = tf.matmul(input_placeholder,W)\n",
    "predict = tf.argmax(Q_out,1)"
   ]
  },
  {
   "cell_type": "code",
   "execution_count": 5,
   "metadata": {},
   "outputs": [],
   "source": [
    "# Calculating the sum of squared difference loss between the target and the prediction\n",
    "next_Q = tf.placeholder(shape=[1,4], dtype=tf.float32)\n",
    "loss = tf.reduce_sum(tf.square(next_Q - Q_out))\n",
    "\n",
    "trainer = tf.train.GradientDescentOptimizer(learning_rate = 0.1)\n",
    "updateModel = trainer.minimize(loss)"
   ]
  },
  {
   "cell_type": "markdown",
   "metadata": {},
   "source": [
    "### Training the network"
   ]
  },
  {
   "cell_type": "code",
   "execution_count": 6,
   "metadata": {},
   "outputs": [
    {
     "name": "stdout",
     "output_type": "stream",
     "text": [
      "WARNING:tensorflow:From /Users/bhanuka/Dropbox/Projects/Personal Projects/Reinforcement Learning/env/lib/python3.7/site-packages/tensorflow_core/python/util/tf_should_use.py:198: initialize_all_variables (from tensorflow.python.ops.variables) is deprecated and will be removed after 2017-03-02.\n",
      "Instructions for updating:\n",
      "Use `tf.global_variables_initializer` instead.\n"
     ]
    }
   ],
   "source": [
    "# Initialize the variables\n",
    "init = tf.initialize_all_variables()"
   ]
  },
  {
   "cell_type": "code",
   "execution_count": 7,
   "metadata": {},
   "outputs": [],
   "source": [
    "# Set the learning parameters\n",
    "discount_factor = 0.99\n",
    "e = 0.1\n",
    "num_episodes = 2000\n",
    "\n",
    "step_list = []\n",
    "reward_list = []"
   ]
  },
  {
   "cell_type": "code",
   "execution_count": 10,
   "metadata": {},
   "outputs": [
    {
     "name": "stdout",
     "output_type": "stream",
     "text": [
      "Percent of successfull episodes : 0.469%\n"
     ]
    }
   ],
   "source": [
    "with tf.Session() as sess:\n",
    "    sess.run(init)\n",
    "    for i in range(num_episodes):\n",
    "        # Reset the environment and get first observation\n",
    "        s = env.reset()\n",
    "        \n",
    "        total_reward = 0\n",
    "        done = False\n",
    "        step = 0\n",
    "        \n",
    "        # Looping through one episode\n",
    "        while step < 99:\n",
    "            step += 1\n",
    "            \n",
    "            # Feeding the identity matrix into the network and getting the action and output matrix\n",
    "            a,allQ = sess.run([predict,Q_out], feed_dict={input_placeholder:np.identity(16)[s:s+1]})\n",
    "            \n",
    "            # Getting a random action based on a small probability\n",
    "            if np.random.rand(1) < e :\n",
    "                a[0] = env.action_space.sample()\n",
    "                \n",
    "            # Get new state and reward from environment\n",
    "            s_new, reward, done, _ = env.step(a[0])\n",
    "            \n",
    "            # Obtain the Q values for the next state (truth state)\n",
    "            Q_new = sess.run(Q_out, feed_dict={input_placeholder:np.identity(16)[s_new:s_new+1]})\n",
    "        \n",
    "            # Set the target value to the max Q\n",
    "            max_Q = np.max(Q_new)\n",
    "            targetQ = allQ\n",
    "            targetQ[0,a[0]] = reward + discount_factor * max_Q\n",
    "            \n",
    "            # Backpropogate the network using the target and predicted Q-values\n",
    "            _, W1 = sess.run([updateModel, W], feed_dict={input_placeholder : np.identity(16)[s:s+1],next_Q:targetQ})\n",
    "            \n",
    "            total_reward = reward\n",
    "            \n",
    "            s = s_new\n",
    "            \n",
    "            if done == True:\n",
    "                \n",
    "                # Smooth out the exploration as the model progresses\n",
    "                e = 1.0/((i/50) + 10)\n",
    "                break\n",
    "                \n",
    "        \n",
    "        step_list.append(step)\n",
    "        reward_list.append(total_reward)\n",
    "        \n",
    "    print(\"Percent of successfull episodes : \" + str(sum(reward_list)/num_episodes) + \"%\")      "
   ]
  },
  {
   "cell_type": "markdown",
   "metadata": {},
   "source": [
    "### Display some analysis"
   ]
  },
  {
   "cell_type": "code",
   "execution_count": 11,
   "metadata": {},
   "outputs": [
    {
     "data": {
      "text/plain": [
       "[<matplotlib.lines.Line2D at 0x1441d8750>]"
      ]
     },
     "execution_count": 11,
     "metadata": {},
     "output_type": "execute_result"
    },
    {
     "data": {
      "image/png": "[encoded data removed]",
      "text/plain": [
       "<Figure size 432x288 with 1 Axes>"
      ]
     },
     "metadata": {
      "needs_background": "light"
     },
     "output_type": "display_data"
    }
   ],
   "source": [
    "plt.plot(reward_list)"
   ]
  },
  {
   "cell_type": "markdown",
   "metadata": {},
   "source": [
    "Agent starts reaching the goal sucessfully around 275 episodes"
   ]
  },
  {
   "cell_type": "code",
   "execution_count": 13,
   "metadata": {},
   "outputs": [
    {
     "data": {
      "text/plain": [
       "[<matplotlib.lines.Line2D at 0x146bcbe10>]"
      ]
     },
     "execution_count": 13,
     "metadata": {},
     "output_type": "execute_result"
    },
    {
     "data": {
      "image/png": "[encoded data removed]",
      "text/plain": [
       "<Figure size 432x288 with 1 Axes>"
      ]
     },
     "metadata": {
      "needs_background": "light"
     },
     "output_type": "display_data"
    }
   ],
   "source": [
    "plt.plot(step_list)"
   ]
  },
  {
   "cell_type": "markdown",
   "metadata": {},
   "source": [
    "Agent moves around the map for more steps in after 250 episodes "
   ]
  }
 ],
 "metadata": {
  "kernelspec": {
   "display_name": "Python 3",
   "language": "python",
   "name": "python3"
  },
  "language_info": {
   "codemirror_mode": {
    "name": "ipython",
    "version": 3
   },
   "file_extension": ".py",
   "mimetype": "text/x-python",
   "name": "python",
   "nbconvert_exporter": "python",
   "pygments_lexer": "ipython3",
   "version": "3.7.5"
  }
 },
 "nbformat": 4,
 "nbformat_minor": 4
}
